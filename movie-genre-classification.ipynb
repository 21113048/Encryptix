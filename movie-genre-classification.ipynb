{
 "cells": [
  {
   "cell_type": "markdown",
   "metadata": {},
   "source": [
    "# Movie Genre Classification\n",
    "\n"
   ]
  },
  {
   "cell_type": "code",
   "execution_count": 1,
   "metadata": {
    "execution": {
     "iopub.execute_input": "2024-05-06T14:15:40.677224Z",
     "iopub.status.busy": "2024-05-06T14:15:40.676755Z",
     "iopub.status.idle": "2024-05-06T14:15:40.684506Z",
     "shell.execute_reply": "2024-05-06T14:15:40.683365Z",
     "shell.execute_reply.started": "2024-05-06T14:15:40.677195Z"
    }
   },
   "outputs": [],
   "source": [
    "import numpy as np\n",
    "import pandas as pd\n",
    "import matplotlib.pyplot as plt\n",
    "import seaborn as sns\n",
    "import re\n",
    "import nltk\n",
    "import string\n",
    "from nltk.corpus import stopwords\n",
    "from nltk.stem import LancasterStemmer\n",
    "from sklearn.feature_extraction.text import TfidfVectorizer\n",
    "from sklearn.model_selection import train_test_split\n",
    "from sklearn.naive_bayes import MultinomialNB\n",
    "from sklearn.metrics import accuracy_score, classification_report"
   ]
  },
  {
   "cell_type": "code",
   "execution_count": 2,
   "metadata": {
    "execution": {
     "iopub.execute_input": "2024-05-06T14:15:44.531509Z",
     "iopub.status.busy": "2024-05-06T14:15:44.53106Z",
     "iopub.status.idle": "2024-05-06T14:15:44.943049Z",
     "shell.execute_reply": "2024-05-06T14:15:44.941993Z",
     "shell.execute_reply.started": "2024-05-06T14:15:44.531473Z"
    }
   },
   "outputs": [
    {
     "data": {
      "text/html": [
       "<div>\n",
       "<style scoped>\n",
       "    .dataframe tbody tr th:only-of-type {\n",
       "        vertical-align: middle;\n",
       "    }\n",
       "\n",
       "    .dataframe tbody tr th {\n",
       "        vertical-align: top;\n",
       "    }\n",
       "\n",
       "    .dataframe thead th {\n",
       "        text-align: right;\n",
       "    }\n",
       "</style>\n",
       "<table border=\"1\" class=\"dataframe\">\n",
       "  <thead>\n",
       "    <tr style=\"text-align: right;\">\n",
       "      <th></th>\n",
       "      <th>id</th>\n",
       "      <th>movie_name</th>\n",
       "      <th>synopsis</th>\n",
       "      <th>genre</th>\n",
       "    </tr>\n",
       "  </thead>\n",
       "  <tbody>\n",
       "    <tr>\n",
       "      <th>0</th>\n",
       "      <td>44978</td>\n",
       "      <td>Super Me</td>\n",
       "      <td>A young scriptwriter starts bringing valuable ...</td>\n",
       "      <td>fantasy</td>\n",
       "    </tr>\n",
       "    <tr>\n",
       "      <th>1</th>\n",
       "      <td>50185</td>\n",
       "      <td>Entity Project</td>\n",
       "      <td>A director and her friends renting a haunted h...</td>\n",
       "      <td>horror</td>\n",
       "    </tr>\n",
       "    <tr>\n",
       "      <th>2</th>\n",
       "      <td>34131</td>\n",
       "      <td>Behavioral Family Therapy for Serious Psychiat...</td>\n",
       "      <td>This is an educational video for families and ...</td>\n",
       "      <td>family</td>\n",
       "    </tr>\n",
       "    <tr>\n",
       "      <th>3</th>\n",
       "      <td>78522</td>\n",
       "      <td>Blood Glacier</td>\n",
       "      <td>Scientists working in the Austrian Alps discov...</td>\n",
       "      <td>scifi</td>\n",
       "    </tr>\n",
       "    <tr>\n",
       "      <th>4</th>\n",
       "      <td>2206</td>\n",
       "      <td>Apat na anino</td>\n",
       "      <td>Buy Day - Four Men Widely - Apart in Life - By...</td>\n",
       "      <td>action</td>\n",
       "    </tr>\n",
       "    <tr>\n",
       "      <th>...</th>\n",
       "      <td>...</td>\n",
       "      <td>...</td>\n",
       "      <td>...</td>\n",
       "      <td>...</td>\n",
       "    </tr>\n",
       "    <tr>\n",
       "      <th>53995</th>\n",
       "      <td>80325</td>\n",
       "      <td>Untitled Monkeyshine/Ugly Brother Project</td>\n",
       "      <td>Two loser pest control buddies find themselves...</td>\n",
       "      <td>scifi</td>\n",
       "    </tr>\n",
       "    <tr>\n",
       "      <th>53996</th>\n",
       "      <td>84712</td>\n",
       "      <td>The Great Swindle</td>\n",
       "      <td>A seductive woman gets involved in relationshi...</td>\n",
       "      <td>thriller</td>\n",
       "    </tr>\n",
       "    <tr>\n",
       "      <th>53997</th>\n",
       "      <td>69801</td>\n",
       "      <td>When Men Get Pregnant</td>\n",
       "      <td>Duyen, a wedding dress staff, who decides to c...</td>\n",
       "      <td>romance</td>\n",
       "    </tr>\n",
       "    <tr>\n",
       "      <th>53998</th>\n",
       "      <td>7678</td>\n",
       "      <td>Suttu Pidikka Utharavu</td>\n",
       "      <td>The people of a crowded colony in Coimbatore c...</td>\n",
       "      <td>action</td>\n",
       "    </tr>\n",
       "    <tr>\n",
       "      <th>53999</th>\n",
       "      <td>33970</td>\n",
       "      <td>Margo the Mouse</td>\n",
       "      <td>Margo is a little mouse that lives quietly in ...</td>\n",
       "      <td>family</td>\n",
       "    </tr>\n",
       "  </tbody>\n",
       "</table>\n",
       "<p>54000 rows × 4 columns</p>\n",
       "</div>"
      ],
      "text/plain": [
       "          id                                         movie_name  \\\n",
       "0      44978                                           Super Me   \n",
       "1      50185                                     Entity Project   \n",
       "2      34131  Behavioral Family Therapy for Serious Psychiat...   \n",
       "3      78522                                      Blood Glacier   \n",
       "4       2206                                      Apat na anino   \n",
       "...      ...                                                ...   \n",
       "53995  80325          Untitled Monkeyshine/Ugly Brother Project   \n",
       "53996  84712                                  The Great Swindle   \n",
       "53997  69801                              When Men Get Pregnant   \n",
       "53998   7678                             Suttu Pidikka Utharavu   \n",
       "53999  33970                                    Margo the Mouse   \n",
       "\n",
       "                                                synopsis     genre  \n",
       "0      A young scriptwriter starts bringing valuable ...   fantasy  \n",
       "1      A director and her friends renting a haunted h...    horror  \n",
       "2      This is an educational video for families and ...    family  \n",
       "3      Scientists working in the Austrian Alps discov...     scifi  \n",
       "4      Buy Day - Four Men Widely - Apart in Life - By...    action  \n",
       "...                                                  ...       ...  \n",
       "53995  Two loser pest control buddies find themselves...     scifi  \n",
       "53996  A seductive woman gets involved in relationshi...  thriller  \n",
       "53997  Duyen, a wedding dress staff, who decides to c...   romance  \n",
       "53998  The people of a crowded colony in Coimbatore c...    action  \n",
       "53999  Margo is a little mouse that lives quietly in ...    family  \n",
       "\n",
       "[54000 rows x 4 columns]"
      ]
     },
     "execution_count": 2,
     "metadata": {},
     "output_type": "execute_result"
    }
   ],
   "source": [
    "\n",
    "train_data = pd.read_csv(\"train.csv\")\n",
    "train_data"
   ]
  },
  {
   "cell_type": "code",
   "execution_count": 3,
   "metadata": {
    "execution": {
     "iopub.execute_input": "2024-05-06T14:15:50.326952Z",
     "iopub.status.busy": "2024-05-06T14:15:50.326534Z",
     "iopub.status.idle": "2024-05-06T14:15:50.820496Z",
     "shell.execute_reply": "2024-05-06T14:15:50.819474Z",
     "shell.execute_reply.started": "2024-05-06T14:15:50.32692Z"
    }
   },
   "outputs": [
    {
     "data": {
      "text/html": [
       "<div>\n",
       "<style scoped>\n",
       "    .dataframe tbody tr th:only-of-type {\n",
       "        vertical-align: middle;\n",
       "    }\n",
       "\n",
       "    .dataframe tbody tr th {\n",
       "        vertical-align: top;\n",
       "    }\n",
       "\n",
       "    .dataframe thead th {\n",
       "        text-align: right;\n",
       "    }\n",
       "</style>\n",
       "<table border=\"1\" class=\"dataframe\">\n",
       "  <thead>\n",
       "    <tr style=\"text-align: right;\">\n",
       "      <th></th>\n",
       "      <th>id</th>\n",
       "      <th>movie_name</th>\n",
       "      <th>synopsis</th>\n",
       "      <th>genre</th>\n",
       "    </tr>\n",
       "  </thead>\n",
       "  <tbody>\n",
       "    <tr>\n",
       "      <th>0</th>\n",
       "      <td>16863</td>\n",
       "      <td>A Death Sentence</td>\n",
       "      <td>12 y.o. Ida's dad'll die without a DKK1,500,00...</td>\n",
       "      <td>action</td>\n",
       "    </tr>\n",
       "    <tr>\n",
       "      <th>1</th>\n",
       "      <td>48456</td>\n",
       "      <td>Intermedio</td>\n",
       "      <td>A group of four teenage friends become trapped...</td>\n",
       "      <td>action</td>\n",
       "    </tr>\n",
       "    <tr>\n",
       "      <th>2</th>\n",
       "      <td>41383</td>\n",
       "      <td>30 Chua Phai Tet</td>\n",
       "      <td>A guy left his home for 12 years till he came ...</td>\n",
       "      <td>action</td>\n",
       "    </tr>\n",
       "    <tr>\n",
       "      <th>3</th>\n",
       "      <td>84007</td>\n",
       "      <td>Paranoiac</td>\n",
       "      <td>A man long believed dead returns to the family...</td>\n",
       "      <td>action</td>\n",
       "    </tr>\n",
       "    <tr>\n",
       "      <th>4</th>\n",
       "      <td>40269</td>\n",
       "      <td>Ordinary Happiness</td>\n",
       "      <td>After a deadly accident, Paolo comes back on E...</td>\n",
       "      <td>action</td>\n",
       "    </tr>\n",
       "    <tr>\n",
       "      <th>...</th>\n",
       "      <td>...</td>\n",
       "      <td>...</td>\n",
       "      <td>...</td>\n",
       "      <td>...</td>\n",
       "    </tr>\n",
       "    <tr>\n",
       "      <th>35995</th>\n",
       "      <td>73156</td>\n",
       "      <td>Mysterious Doctor Satan</td>\n",
       "      <td>A mad scientist plots the domination of Americ...</td>\n",
       "      <td>action</td>\n",
       "    </tr>\n",
       "    <tr>\n",
       "      <th>35996</th>\n",
       "      <td>21242</td>\n",
       "      <td>Blondes at Work</td>\n",
       "      <td>Steve promises his captain not to favor Torchy...</td>\n",
       "      <td>action</td>\n",
       "    </tr>\n",
       "    <tr>\n",
       "      <th>35997</th>\n",
       "      <td>70135</td>\n",
       "      <td>The Hurricane</td>\n",
       "      <td>A Polynesian sailor unjustly imprisoned after ...</td>\n",
       "      <td>action</td>\n",
       "    </tr>\n",
       "    <tr>\n",
       "      <th>35998</th>\n",
       "      <td>85987</td>\n",
       "      <td>Malayankunju</td>\n",
       "      <td>Anikkuttan is an ill-tempered electronics tech...</td>\n",
       "      <td>action</td>\n",
       "    </tr>\n",
       "    <tr>\n",
       "      <th>35999</th>\n",
       "      <td>7302</td>\n",
       "      <td>Mr. Nice Guy</td>\n",
       "      <td>A Chinese chef accidentally gets involved with...</td>\n",
       "      <td>action</td>\n",
       "    </tr>\n",
       "  </tbody>\n",
       "</table>\n",
       "<p>36000 rows × 4 columns</p>\n",
       "</div>"
      ],
      "text/plain": [
       "          id               movie_name  \\\n",
       "0      16863         A Death Sentence   \n",
       "1      48456               Intermedio   \n",
       "2      41383         30 Chua Phai Tet   \n",
       "3      84007                Paranoiac   \n",
       "4      40269       Ordinary Happiness   \n",
       "...      ...                      ...   \n",
       "35995  73156  Mysterious Doctor Satan   \n",
       "35996  21242          Blondes at Work   \n",
       "35997  70135            The Hurricane   \n",
       "35998  85987             Malayankunju   \n",
       "35999   7302             Mr. Nice Guy   \n",
       "\n",
       "                                                synopsis   genre  \n",
       "0      12 y.o. Ida's dad'll die without a DKK1,500,00...  action  \n",
       "1      A group of four teenage friends become trapped...  action  \n",
       "2      A guy left his home for 12 years till he came ...  action  \n",
       "3      A man long believed dead returns to the family...  action  \n",
       "4      After a deadly accident, Paolo comes back on E...  action  \n",
       "...                                                  ...     ...  \n",
       "35995  A mad scientist plots the domination of Americ...  action  \n",
       "35996  Steve promises his captain not to favor Torchy...  action  \n",
       "35997  A Polynesian sailor unjustly imprisoned after ...  action  \n",
       "35998  Anikkuttan is an ill-tempered electronics tech...  action  \n",
       "35999  A Chinese chef accidentally gets involved with...  action  \n",
       "\n",
       "[36000 rows x 4 columns]"
      ]
     },
     "execution_count": 3,
     "metadata": {},
     "output_type": "execute_result"
    }
   ],
   "source": [
    "test_data = pd.read_csv(\"test.csv\")\n",
    "test_data"
   ]
  },
  {
   "cell_type": "code",
   "execution_count": 4,
   "metadata": {
    "execution": {
     "iopub.execute_input": "2024-05-06T14:15:55.425813Z",
     "iopub.status.busy": "2024-05-06T14:15:55.424763Z",
     "iopub.status.idle": "2024-05-06T14:15:55.544186Z",
     "shell.execute_reply": "2024-05-06T14:15:55.543145Z",
     "shell.execute_reply.started": "2024-05-06T14:15:55.425774Z"
    }
   },
   "outputs": [
    {
     "data": {
      "text/html": [
       "<div>\n",
       "<style scoped>\n",
       "    .dataframe tbody tr th:only-of-type {\n",
       "        vertical-align: middle;\n",
       "    }\n",
       "\n",
       "    .dataframe tbody tr th {\n",
       "        vertical-align: top;\n",
       "    }\n",
       "\n",
       "    .dataframe thead th {\n",
       "        text-align: right;\n",
       "    }\n",
       "</style>\n",
       "<table border=\"1\" class=\"dataframe\">\n",
       "  <thead>\n",
       "    <tr style=\"text-align: right;\">\n",
       "      <th></th>\n",
       "      <th>id</th>\n",
       "    </tr>\n",
       "  </thead>\n",
       "  <tbody>\n",
       "    <tr>\n",
       "      <th>count</th>\n",
       "      <td>54000.000000</td>\n",
       "    </tr>\n",
       "    <tr>\n",
       "      <th>mean</th>\n",
       "      <td>44994.882352</td>\n",
       "    </tr>\n",
       "    <tr>\n",
       "      <th>std</th>\n",
       "      <td>25980.135904</td>\n",
       "    </tr>\n",
       "    <tr>\n",
       "      <th>min</th>\n",
       "      <td>0.000000</td>\n",
       "    </tr>\n",
       "    <tr>\n",
       "      <th>25%</th>\n",
       "      <td>22569.750000</td>\n",
       "    </tr>\n",
       "    <tr>\n",
       "      <th>50%</th>\n",
       "      <td>45000.000000</td>\n",
       "    </tr>\n",
       "    <tr>\n",
       "      <th>75%</th>\n",
       "      <td>67466.250000</td>\n",
       "    </tr>\n",
       "    <tr>\n",
       "      <th>max</th>\n",
       "      <td>89999.000000</td>\n",
       "    </tr>\n",
       "  </tbody>\n",
       "</table>\n",
       "</div>"
      ],
      "text/plain": [
       "                 id\n",
       "count  54000.000000\n",
       "mean   44994.882352\n",
       "std    25980.135904\n",
       "min        0.000000\n",
       "25%    22569.750000\n",
       "50%    45000.000000\n",
       "75%    67466.250000\n",
       "max    89999.000000"
      ]
     },
     "execution_count": 4,
     "metadata": {},
     "output_type": "execute_result"
    }
   ],
   "source": [
    "train_data.describe()"
   ]
  },
  {
   "cell_type": "code",
   "execution_count": 5,
   "metadata": {
    "execution": {
     "iopub.execute_input": "2024-05-06T14:16:00.696286Z",
     "iopub.status.busy": "2024-05-06T14:16:00.695181Z",
     "iopub.status.idle": "2024-05-06T14:16:00.71591Z",
     "shell.execute_reply": "2024-05-06T14:16:00.714794Z",
     "shell.execute_reply.started": "2024-05-06T14:16:00.696246Z"
    }
   },
   "outputs": [
    {
     "data": {
      "text/html": [
       "<div>\n",
       "<style scoped>\n",
       "    .dataframe tbody tr th:only-of-type {\n",
       "        vertical-align: middle;\n",
       "    }\n",
       "\n",
       "    .dataframe tbody tr th {\n",
       "        vertical-align: top;\n",
       "    }\n",
       "\n",
       "    .dataframe thead th {\n",
       "        text-align: right;\n",
       "    }\n",
       "</style>\n",
       "<table border=\"1\" class=\"dataframe\">\n",
       "  <thead>\n",
       "    <tr style=\"text-align: right;\">\n",
       "      <th></th>\n",
       "      <th>id</th>\n",
       "    </tr>\n",
       "  </thead>\n",
       "  <tbody>\n",
       "    <tr>\n",
       "      <th>count</th>\n",
       "      <td>36000.000000</td>\n",
       "    </tr>\n",
       "    <tr>\n",
       "      <th>mean</th>\n",
       "      <td>45006.426472</td>\n",
       "    </tr>\n",
       "    <tr>\n",
       "      <th>std</th>\n",
       "      <td>25982.421537</td>\n",
       "    </tr>\n",
       "    <tr>\n",
       "      <th>min</th>\n",
       "      <td>1.000000</td>\n",
       "    </tr>\n",
       "    <tr>\n",
       "      <th>25%</th>\n",
       "      <td>22431.750000</td>\n",
       "    </tr>\n",
       "    <tr>\n",
       "      <th>50%</th>\n",
       "      <td>44998.500000</td>\n",
       "    </tr>\n",
       "    <tr>\n",
       "      <th>75%</th>\n",
       "      <td>67539.500000</td>\n",
       "    </tr>\n",
       "    <tr>\n",
       "      <th>max</th>\n",
       "      <td>89998.000000</td>\n",
       "    </tr>\n",
       "  </tbody>\n",
       "</table>\n",
       "</div>"
      ],
      "text/plain": [
       "                 id\n",
       "count  36000.000000\n",
       "mean   45006.426472\n",
       "std    25982.421537\n",
       "min        1.000000\n",
       "25%    22431.750000\n",
       "50%    44998.500000\n",
       "75%    67539.500000\n",
       "max    89998.000000"
      ]
     },
     "execution_count": 5,
     "metadata": {},
     "output_type": "execute_result"
    }
   ],
   "source": [
    "test_data.describe()"
   ]
  },
  {
   "cell_type": "code",
   "execution_count": 6,
   "metadata": {
    "execution": {
     "iopub.execute_input": "2024-05-06T14:16:40.802376Z",
     "iopub.status.busy": "2024-05-06T14:16:40.801416Z",
     "iopub.status.idle": "2024-05-06T14:16:40.829194Z",
     "shell.execute_reply": "2024-05-06T14:16:40.827428Z",
     "shell.execute_reply.started": "2024-05-06T14:16:40.802336Z"
    }
   },
   "outputs": [
    {
     "data": {
      "text/plain": [
       "id            0\n",
       "movie_name    0\n",
       "synopsis      0\n",
       "genre         0\n",
       "dtype: int64"
      ]
     },
     "execution_count": 6,
     "metadata": {},
     "output_type": "execute_result"
    }
   ],
   "source": [
    "train_data.isnull().sum()"
   ]
  },
  {
   "cell_type": "code",
   "execution_count": 7,
   "metadata": {
    "execution": {
     "iopub.execute_input": "2024-05-06T14:16:44.076939Z",
     "iopub.status.busy": "2024-05-06T14:16:44.076322Z",
     "iopub.status.idle": "2024-05-06T14:16:44.098677Z",
     "shell.execute_reply": "2024-05-06T14:16:44.097665Z",
     "shell.execute_reply.started": "2024-05-06T14:16:44.076901Z"
    }
   },
   "outputs": [
    {
     "data": {
      "text/plain": [
       "id            0\n",
       "movie_name    0\n",
       "synopsis      0\n",
       "genre         0\n",
       "dtype: int64"
      ]
     },
     "execution_count": 7,
     "metadata": {},
     "output_type": "execute_result"
    }
   ],
   "source": [
    "test_data.isnull().sum()"
   ]
  },
  {
   "cell_type": "code",
   "execution_count": 8,
   "metadata": {
    "execution": {
     "iopub.execute_input": "2024-05-06T14:16:47.388999Z",
     "iopub.status.busy": "2024-05-06T14:16:47.388598Z",
     "iopub.status.idle": "2024-05-06T14:16:47.40018Z",
     "shell.execute_reply": "2024-05-06T14:16:47.398748Z",
     "shell.execute_reply.started": "2024-05-06T14:16:47.388967Z"
    }
   },
   "outputs": [
    {
     "name": "stdout",
     "output_type": "stream",
     "text": [
      "Class Distribution:\n",
      "fantasy      5400\n",
      "horror       5400\n",
      "family       5400\n",
      "scifi        5400\n",
      "action       5400\n",
      "crime        5400\n",
      "adventure    5400\n",
      "mystery      5400\n",
      "romance      5400\n",
      "thriller     5400\n",
      "Name: genre, dtype: int64\n"
     ]
    }
   ],
   "source": [
    "class_distribution = train_data['genre'].value_counts()\n",
    "print(\"Class Distribution:\")\n",
    "print(class_distribution)"
   ]
  },
  {
   "cell_type": "code",
   "execution_count": 9,
   "metadata": {
    "execution": {
     "iopub.execute_input": "2024-05-06T14:16:53.606884Z",
     "iopub.status.busy": "2024-05-06T14:16:53.606487Z",
     "iopub.status.idle": "2024-05-06T14:16:53.613003Z",
     "shell.execute_reply": "2024-05-06T14:16:53.611791Z",
     "shell.execute_reply.started": "2024-05-06T14:16:53.606852Z"
    }
   },
   "outputs": [
    {
     "name": "stdout",
     "output_type": "stream",
     "text": [
      "Imbalance Ratio: 1.0\n"
     ]
    }
   ],
   "source": [
    "imbalance_ratio = class_distribution.min() / class_distribution.max()\n",
    "print(\"Imbalance Ratio:\", imbalance_ratio)"
   ]
  },
  {
   "cell_type": "code",
   "execution_count": 10,
   "metadata": {
    "execution": {
     "iopub.execute_input": "2024-05-06T14:16:57.985186Z",
     "iopub.status.busy": "2024-05-06T14:16:57.984771Z",
     "iopub.status.idle": "2024-05-06T14:16:58.437544Z",
     "shell.execute_reply": "2024-05-06T14:16:58.436446Z",
     "shell.execute_reply.started": "2024-05-06T14:16:57.985152Z"
    }
   },
   "outputs": [
    {
     "data": {
      "image/png": "[encoded data removed]",
      "text/plain": [
       "<Figure size 800x600 with 1 Axes>"
      ]
     },
     "metadata": {},
     "output_type": "display_data"
    }
   ],
   "source": [
    "plt.figure(figsize=(8, 6))\n",
    "class_distribution.plot(kind='bar', color='skyblue')\n",
    "plt.title('Class Distribution')\n",
    "plt.xlabel('Class')\n",
    "plt.ylabel('Frequency')\n",
    "plt.xticks(rotation=65)\n",
    "plt.show()"
   ]
  },
  {
   "cell_type": "markdown",
   "metadata": {},
   "source": [
    "## Modeling"
   ]
  },
  {
   "cell_type": "code",
   "execution_count": 17,
   "metadata": {},
   "outputs": [
    {
     "name": "stdout",
     "output_type": "stream",
     "text": [
      "Accuracy on training set: 0.4822962962962963\n",
      "Classification Report on training set:\n",
      "               precision    recall  f1-score   support\n",
      "\n",
      "      action       0.45      0.41      0.43      5400\n",
      "   adventure       0.44      0.38      0.41      5400\n",
      "       crime       0.48      0.51      0.49      5400\n",
      "      family       0.50      0.58      0.54      5400\n",
      "     fantasy       0.47      0.41      0.43      5400\n",
      "      horror       0.51      0.57      0.54      5400\n",
      "     mystery       0.44      0.42      0.43      5400\n",
      "     romance       0.54      0.66      0.60      5400\n",
      "       scifi       0.51      0.60      0.55      5400\n",
      "    thriller       0.43      0.29      0.35      5400\n",
      "\n",
      "    accuracy                           0.48     54000\n",
      "   macro avg       0.48      0.48      0.48     54000\n",
      "weighted avg       0.48      0.48      0.48     54000\n",
      "\n"
     ]
    }
   ],
   "source": [
    "from sklearn.linear_model import LogisticRegression\n",
    "tfidf_vectorizer = TfidfVectorizer(max_features=5000)\n",
    "X_train_tfidf = tfidf_vectorizer.fit_transform(train_data['synopsis'])\n",
    "y_train = train_data['genre']  \n",
    "\n",
    "\n",
    "lr_classifier = LogisticRegression(max_iter=1000)\n",
    "lr_classifier.fit(X_train_tfidf, y_train)\n",
    "\n",
    "y_train_pred = lr_classifier.predict(X_train_tfidf)\n",
    "\n",
    "print(\"Accuracy on training set:\", accuracy_score(y_train, y_train_pred))\n",
    "print(\"Classification Report on training set:\\n\", classification_report(y_train, y_train_pred))\n"
   ]
  },
  {
   "cell_type": "code",
   "execution_count": 18,
   "metadata": {},
   "outputs": [
    {
     "name": "stdout",
     "output_type": "stream",
     "text": [
      "Accuracy on training set: 0.4514074074074074\n",
      "Classification Report on training set:\n",
      "               precision    recall  f1-score   support\n",
      "\n",
      "      action       0.43      0.36      0.39      5400\n",
      "   adventure       0.41      0.33      0.36      5400\n",
      "       crime       0.44      0.52      0.48      5400\n",
      "      family       0.48      0.53      0.51      5400\n",
      "     fantasy       0.43      0.37      0.40      5400\n",
      "      horror       0.47      0.56      0.51      5400\n",
      "     mystery       0.41      0.39      0.40      5400\n",
      "     romance       0.49      0.66      0.56      5400\n",
      "       scifi       0.48      0.58      0.53      5400\n",
      "    thriller       0.41      0.22      0.28      5400\n",
      "\n",
      "    accuracy                           0.45     54000\n",
      "   macro avg       0.45      0.45      0.44     54000\n",
      "weighted avg       0.45      0.45      0.44     54000\n",
      "\n"
     ]
    }
   ],
   "source": [
    "tfidf_vectorizer = TfidfVectorizer(max_features=5000)\n",
    "X_train_tfidf = tfidf_vectorizer.fit_transform(train_data['synopsis'])\n",
    "y_train = train_data['genre']  \n",
    "\n",
    "\n",
    "nb_classifier = MultinomialNB()\n",
    "nb_classifier.fit(X_train_tfidf, y_train)\n",
    "\n",
    "\n",
    "y_train_pred = nb_classifier.predict(X_train_tfidf)\n",
    "\n",
    "\n",
    "print(\"Accuracy on training set:\", accuracy_score(y_train, y_train_pred))\n",
    "print(\"Classification Report on training set:\\n\", classification_report(y_train, y_train_pred))\n"
   ]
  },
  {
   "cell_type": "markdown",
   "metadata": {},
   "source": [
    "## Prediction"
   ]
  },
  {
   "cell_type": "code",
   "execution_count": 19,
   "metadata": {
    "execution": {
     "iopub.execute_input": "2024-05-06T14:23:01.470811Z",
     "iopub.status.busy": "2024-05-06T14:23:01.470343Z",
     "iopub.status.idle": "2024-05-06T14:23:06.90983Z",
     "shell.execute_reply": "2024-05-06T14:23:06.908469Z",
     "shell.execute_reply.started": "2024-05-06T14:23:01.470783Z"
    }
   },
   "outputs": [],
   "source": [
    "tfidf_vectorizer = TfidfVectorizer(max_features=5000)\n",
    "X_test = tfidf_vectorizer.fit_transform(test_data['synopsis'])"
   ]
  },
  {
   "cell_type": "code",
   "execution_count": 20,
   "metadata": {},
   "outputs": [],
   "source": [
    "X_test_predictions = nb_classifier.predict(X_test)\n",
    "test_data['Predicted_Genre'] = X_test_predictions"
   ]
  },
  {
   "cell_type": "code",
   "execution_count": 21,
   "metadata": {
    "execution": {
     "iopub.execute_input": "2024-05-06T14:23:24.377994Z",
     "iopub.status.busy": "2024-05-06T14:23:24.377603Z",
     "iopub.status.idle": "2024-05-06T14:23:25.418187Z",
     "shell.execute_reply": "2024-05-06T14:23:25.416879Z",
     "shell.execute_reply.started": "2024-05-06T14:23:24.377958Z"
    }
   },
   "outputs": [
    {
     "name": "stdout",
     "output_type": "stream",
     "text": [
      "          id               movie_name  \\\n",
      "0      16863         A Death Sentence   \n",
      "1      48456               Intermedio   \n",
      "2      41383         30 Chua Phai Tet   \n",
      "3      84007                Paranoiac   \n",
      "4      40269       Ordinary Happiness   \n",
      "...      ...                      ...   \n",
      "35995  73156  Mysterious Doctor Satan   \n",
      "35996  21242          Blondes at Work   \n",
      "35997  70135            The Hurricane   \n",
      "35998  85987             Malayankunju   \n",
      "35999   7302             Mr. Nice Guy   \n",
      "\n",
      "                                                synopsis   genre  \\\n",
      "0      12 y.o. Ida's dad'll die without a DKK1,500,00...  action   \n",
      "1      A group of four teenage friends become trapped...  action   \n",
      "2      A guy left his home for 12 years till he came ...  action   \n",
      "3      A man long believed dead returns to the family...  action   \n",
      "4      After a deadly accident, Paolo comes back on E...  action   \n",
      "...                                                  ...     ...   \n",
      "35995  A mad scientist plots the domination of Americ...  action   \n",
      "35996  Steve promises his captain not to favor Torchy...  action   \n",
      "35997  A Polynesian sailor unjustly imprisoned after ...  action   \n",
      "35998  Anikkuttan is an ill-tempered electronics tech...  action   \n",
      "35999  A Chinese chef accidentally gets involved with...  action   \n",
      "\n",
      "      Predicted_Genre  \n",
      "0           adventure  \n",
      "1              family  \n",
      "2            thriller  \n",
      "3             romance  \n",
      "4             mystery  \n",
      "...               ...  \n",
      "35995          horror  \n",
      "35996         romance  \n",
      "35997           crime  \n",
      "35998         mystery  \n",
      "35999           crime  \n",
      "\n",
      "[36000 rows x 5 columns]\n"
     ]
    }
   ],
   "source": [
    "test_data.to_csv('predicted_genres.csv', index=False)\n",
    "\n",
    "print(test_data)"
   ]
  },
  {
   "cell_type": "markdown",
   "metadata": {},
   "source": [
    "## Model Pickling/Serialization"
   ]
  },
  {
   "cell_type": "code",
   "execution_count": 22,
   "metadata": {
    "execution": {
     "iopub.execute_input": "2024-05-06T14:23:34.663084Z",
     "iopub.status.busy": "2024-05-06T14:23:34.662635Z",
     "iopub.status.idle": "2024-05-06T14:23:34.720361Z",
     "shell.execute_reply": "2024-05-06T14:23:34.719135Z",
     "shell.execute_reply.started": "2024-05-06T14:23:34.66305Z"
    }
   },
   "outputs": [
    {
     "name": "stdout",
     "output_type": "stream",
     "text": [
      "Models pickled successfully.\n"
     ]
    }
   ],
   "source": [
    "import pickle\n",
    "with open('tfidf_vectorizer.pkl', 'wb') as file:\n",
    "    pickle.dump(tfidf_vectorizer, file)\n",
    "with open('nb_classifier.pkl', 'wb') as file:\n",
    "    pickle.dump(nb_classifier, file)\n",
    "\n",
    "print(\"Models pickled successfully.\")"
   ]
  },
  {
   "cell_type": "code",
   "execution_count": null,
   "metadata": {},
   "outputs": [],
   "source": []
  }
 ],
 "metadata": {
  "kaggle": {
   "accelerator": "none",
   "dataSources": [
    {
     "datasetId": 1417162,
     "sourceId": 2347441,
     "sourceType": "datasetVersion"
    }
   ],
   "dockerImageVersionId": 30698,
   "isGpuEnabled": false,
   "isInternetEnabled": true,
   "language": "python",
   "sourceType": "notebook"
  },
  "kernelspec": {
   "display_name": "Python 3 (ipykernel)",
   "language": "python",
   "name": "python3"
  },
  "language_info": {
   "codemirror_mode": {
    "name": "ipython",
    "version": 3
   },
   "file_extension": ".py",
   "mimetype": "text/x-python",
   "name": "python",
   "nbconvert_exporter": "python",
   "pygments_lexer": "ipython3",
   "version": "3.11.7"
  }
 },
 "nbformat": 4,
 "nbformat_minor": 4
}
